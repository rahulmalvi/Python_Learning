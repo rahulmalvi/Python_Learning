{
  "nbformat": 4,
  "nbformat_minor": 0,
  "metadata": {
    "colab": {
      "provenance": [],
      "authorship_tag": "ABX9TyPBFRbL0FGRaa5RvJU8aQdh",
      "include_colab_link": true
    },
    "kernelspec": {
      "name": "python3",
      "display_name": "Python 3"
    },
    "language_info": {
      "name": "python"
    }
  },
  "cells": [
    {
      "cell_type": "markdown",
      "metadata": {
        "id": "view-in-github",
        "colab_type": "text"
      },
      "source": [
        "<a href=\"https://colab.research.google.com/github/rahulmalvi/Python_Learning/blob/master/ChatBot_PMG.ipynb\" target=\"_parent\"><img src=\"https://colab.research.google.com/assets/colab-badge.svg\" alt=\"Open In Colab\"/></a>"
      ]
    },
    {
      "cell_type": "code",
      "execution_count": 2,
      "metadata": {
        "colab": {
          "base_uri": "https://localhost:8080/"
        },
        "id": "wWqiP8bt2rAU",
        "outputId": "bee6f3ac-e7ca-4942-f65d-46f4401bf6fc"
      },
      "outputs": [
        {
          "output_type": "stream",
          "name": "stdout",
          "text": [
            "Collecting python-dotenv\n",
            "  Downloading python_dotenv-1.0.1-py3-none-any.whl.metadata (23 kB)\n",
            "Downloading python_dotenv-1.0.1-py3-none-any.whl (19 kB)\n",
            "Installing collected packages: python-dotenv\n",
            "Successfully installed python-dotenv-1.0.1\n"
          ]
        }
      ],
      "source": [
        "!pip install python-dotenv"
      ]
    },
    {
      "cell_type": "code",
      "source": [
        "import requests\n",
        "import os\n",
        "from dotenv import load_dotenv\n",
        "\n",
        "# Load environment variables (to avoid hardcoding credentials)\n",
        "load_dotenv()\n",
        "\n",
        "SHAREPOINT_SITE_URL = os.getenv(\"https://pmgglobal.sharepoint.com/sites/Ireland-BIMDepartment\")  # Example: \"https://yourcompany.sharepoint.com/sites/yourSite\"\n",
        "USERNAME = os.getenv(\"rahul.malaviya@pmgroup-global.com\")\n",
        "PASSWORD = os.getenv(\"Lifeisbeautiful21@\")\n",
        "LIST_NAME = os.getenv(\"Documents\")  # Name of the SharePoint list\n",
        "\n",
        "# Function to get records from SharePoint without Azure\n",
        "def fetch_sharepoint_records(keyword):\n",
        "    try:\n",
        "        # SharePoint REST API URL\n",
        "        api_url = f\"{SHAREPOINT_SITE_URL}/_api/web/lists/getbytitle('{LIST_NAME}')/items?$filter=substringof('{keyword}',Title)\"\n",
        "\n",
        "        # Basic authentication\n",
        "        auth = (USERNAME, PASSWORD)\n",
        "\n",
        "        # Set headers\n",
        "        headers = {\n",
        "            \"Accept\": \"application/json;odata=verbose\"\n",
        "        }\n",
        "\n",
        "        # Send request\n",
        "        response = requests.get(api_url, headers=headers, auth=auth)\n",
        "\n",
        "        if response.status_code == 200:\n",
        "            data = response.json()\n",
        "            results = data.get(\"d\", {}).get(\"results\", [])\n",
        "            return [item[\"Title\"] for item in results] if results else []\n",
        "        else:\n",
        "            return f\"Error fetching data: {response.text}\"\n",
        "\n",
        "    except Exception as e:\n",
        "        return f\"Exception: {str(e)}\"\n"
      ],
      "metadata": {
        "id": "B0Op-kmD60AP"
      },
      "execution_count": 4,
      "outputs": []
    }
  ]
}